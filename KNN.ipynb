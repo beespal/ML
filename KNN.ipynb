{
 "cells": [
  {
   "cell_type": "markdown",
   "metadata": {},
   "source": [
    "### Описание задания"
   ]
  },
  {
   "cell_type": "code",
   "execution_count": 1,
   "metadata": {},
   "outputs": [],
   "source": [
    "import numpy as np\n",
    "\n",
    "\n",
    "class KNN_classifier:\n",
    "    def __init__(self, n_neighbors: int, **kwargs):\n",
    "        self.K = n_neighbors\n",
    "\n",
    "    def fit(self, x: np.array, y: np.array):\n",
    "        # TODO: напишите метод .fit() класса KNN_classifier\n",
    "        # Эта функция принимает на вход два массива:\n",
    "        # - x (набор признаков, массив размерности n x m, n - число объектов, m - размерность признакового описания)\n",
    "        # - y (метки для обучения, одномерный массив размерности n)\n",
    "        # Эта функция ничего не возвращает, она должна настроить внутренние параметры модели для дальнейшего использования\n",
    "        # Подумайте, в чем заключается процесс обучения именно этого алгоритма?\n",
    "        # Что этот алгоритм делает в тот момент, когда он получил обучающую выборку?\n",
    "        # Реализуйте эту логику в коде\n",
    "        pass\n",
    "\n",
    "    def predict(self, x: np.array):\n",
    "        predictions = []\n",
    "        # TODO: напишите метод .predict(x) класса KNN_classifier\n",
    "        # Этот метод принимает на вход один массив x. Массив x - это двумерный массив объектов, для которых требуется получить предсказание\n",
    "        # На выходе этой функции мы хотим получить одномерный массив predictions, размерности x.shape[0] (то есть для каждогго объекта массива x мы сделали своё предсказание)\n",
    "        # Вспомните, как алгоритм KNN делает предсказание?\n",
    "        # Реализуйте эту логику в коде\n",
    "        predictions = np.array(predictions)\n",
    "        return predictions"
   ]
  },
  {
   "cell_type": "markdown",
   "metadata": {},
   "source": [
    "### Реализация"
   ]
  },
  {
   "cell_type": "code",
   "execution_count": 2,
   "metadata": {},
   "outputs": [],
   "source": [
    "import numpy as np\n",
    "class KNN_classifier:\n",
    "    \"\"\"\n",
    "    Метод К ближайших соседей.\n",
    "    methods:\n",
    "    fit получает выборку и метки для обучения\n",
    "    - по сути в этом месте просто происходит запоминание\n",
    "        этих данных и приверение их в удобный вид\n",
    "    predict получает объекты для которых нужно произвести классификацию - N элементов.\n",
    "    Была выбрана евклидова метрика.\n",
    "    Возвразает двумерных массив numpy значениями которого являются предсказанные классы - N элементов.\n",
    "    \"\"\"\n",
    "    def __init__(self, n_neighbors: int, **kwargs):\n",
    "        self.K = n_neighbors\n",
    "    def fit(self, x: np.array, y: np.array):\n",
    "        self.train_len = len(x)\n",
    "        self.keys  = list(set(y))\n",
    "        self.y_x =  [(y[i],x[i]) for i in range(self.train_len)]\n",
    "    def predict(self, x: np.array):\n",
    "        test_len = len(x)\n",
    "        predictions = np.zeros(shape=test_len)\n",
    "        for i in range(test_len):\n",
    "            distances = sorted(self.y_x,key=lambda z:np.linalg.norm(z[1]-x[i]))\n",
    "            best_n = distances[:self.K]\n",
    "            classes_scores  = {key:0 for key in self.keys}\n",
    "            for j in range(self.K):\n",
    "                classes_scores[best_n[j][0]]+=1\n",
    "            best_result = 0\n",
    "            best_class = None\n",
    "            for a,b in classes_scores.items():\n",
    "                if b>best_result:\n",
    "                    best_result = b\n",
    "                    best_class = a\n",
    "            predictions[i] = best_class\n",
    "        predictions = [int(x) for x in predictions]\n",
    "        predictions = np.array(predictions)\n",
    "        return predictions"
   ]
  },
  {
   "cell_type": "markdown",
   "metadata": {},
   "source": [
    "#### Выборка для обучения"
   ]
  },
  {
   "cell_type": "code",
   "execution_count": 4,
   "metadata": {},
   "outputs": [],
   "source": [
    "X = np.array([[ 0.56510722,  0.68599596, -0.92388505, -0.29546048, -0.12437532],\n",
    "       [-0.79617537,  0.98406791,  1.19542652, -0.05626863, -0.69868076],\n",
    "       [ 0.9629688 , -1.00423925, -0.53842833, -0.23744358,  0.83226685],\n",
    "       [ 0.24671269, -0.41624448,  0.81679337,  1.59227446,  0.16192583],\n",
    "       [-0.36972363,  0.17425997,  1.33668078,  1.16687907,  0.31709134],\n",
    "       [-1.30482844, -0.05354323, -0.88862186, -1.121785  , -0.78442809],\n",
    "       [-0.53975018,  0.90074877, -1.09317408,  1.52989481, -0.43375015],\n",
    "       [-0.64709803, -0.09775791,  1.3506503 , -1.46957788,  1.63325543],\n",
    "       [-0.73858464, -0.60678229,  0.31420272, -0.43100129, -0.37665876],\n",
    "       [-0.29208809, -0.68795722,  0.06586655,  0.9583851 ,  1.70640775]])\n",
    "y = np.array([1, 0, 0, 1, 0, 1, 0, 1, 0, 1])"
   ]
  },
  {
   "cell_type": "markdown",
   "metadata": {},
   "source": [
    "#### Выбор гиперпараметра n_neighbors - количества ближайших соседей. Затем вызов метода обучения."
   ]
  },
  {
   "cell_type": "code",
   "execution_count": 5,
   "metadata": {},
   "outputs": [],
   "source": [
    "knn = KNN_classifier(n_neighbors=3)\n",
    "knn.fit(X, y)"
   ]
  },
  {
   "cell_type": "markdown",
   "metadata": {},
   "source": [
    "#### Тестовая выборка"
   ]
  },
  {
   "cell_type": "code",
   "execution_count": 6,
   "metadata": {},
   "outputs": [],
   "source": [
    "x_test = np.array([[-0.12489725,  0.65791923, -0.73112495,  1.42660225,  1.64728976],\n",
    "       [ 0.01913388, -1.11351208, -0.63244098, -0.98121107,  0.38060892],\n",
    "       [-0.92074931,  1.39812225,  0.39692147,  0.7717827 ,  0.44604002]])"
   ]
  },
  {
   "cell_type": "markdown",
   "metadata": {},
   "source": [
    "#### Результаты"
   ]
  },
  {
   "cell_type": "code",
   "execution_count": 7,
   "metadata": {},
   "outputs": [
    {
     "data": {
      "text/plain": [
       "array([1, 0, 0])"
      ]
     },
     "execution_count": 7,
     "metadata": {},
     "output_type": "execute_result"
    }
   ],
   "source": [
    "knn.predict(x_test)"
   ]
  },
  {
   "cell_type": "markdown",
   "metadata": {},
   "source": [
    "#### Проверка результатов по этому же методу из библиотеки sklearn"
   ]
  },
  {
   "cell_type": "code",
   "execution_count": 8,
   "metadata": {},
   "outputs": [
    {
     "data": {
      "text/plain": [
       "array([1, 0, 0])"
      ]
     },
     "execution_count": 8,
     "metadata": {},
     "output_type": "execute_result"
    }
   ],
   "source": [
    "from sklearn.neighbors import KNeighborsClassifier\n",
    "clf = KNeighborsClassifier(n_neighbors=3)\n",
    "clf.fit(X,y)\n",
    "clf.predict(x_test)"
   ]
  },
  {
   "cell_type": "markdown",
   "metadata": {},
   "source": [
    "#### Еще один тест"
   ]
  },
  {
   "cell_type": "code",
   "execution_count": 9,
   "metadata": {},
   "outputs": [
    {
     "name": "stdout",
     "output_type": "stream",
     "text": [
      "[0]\n",
      "[0]\n"
     ]
    }
   ],
   "source": [
    "X_1 = np.array([[2,2,2],[1,1,1],[0,0,0]])\n",
    "y_1 = np.array([2,1, 0])\n",
    "test = np.array([[1,2,1]])\n",
    "cls = KNN_classifier(3)\n",
    "cls.fit(X_1,y_1)\n",
    "print(cls.predict(test))\n",
    "clf2 = KNeighborsClassifier(n_neighbors=3)\n",
    "clf2.fit(X_1,y_1)\n",
    "print(clf2.predict(test))"
   ]
  }
 ],
 "metadata": {
  "kernelspec": {
   "display_name": "Python 3",
   "language": "python",
   "name": "python3"
  },
  "language_info": {
   "codemirror_mode": {
    "name": "ipython",
    "version": 3
   },
   "file_extension": ".py",
   "mimetype": "text/x-python",
   "name": "python",
   "nbconvert_exporter": "python",
   "pygments_lexer": "ipython3",
   "version": "3.12.0"
  }
 },
 "nbformat": 4,
 "nbformat_minor": 2
}
